{
 "cells": [
  {
   "cell_type": "code",
   "execution_count": 1,
   "metadata": {
    "collapsed": false
   },
   "outputs": [
    {
     "name": "stderr",
     "output_type": "stream",
     "text": [
      "F:\\Anaconda3\\lib\\importlib\\_bootstrap.py:222: RuntimeWarning: numpy.dtype size changed, may indicate binary incompatibility. Expected 96, got 88\n",
      "  return f(*args, **kwds)\n"
     ]
    }
   ],
   "source": [
    "import tensorflow as tf\n",
    "from tensorflow.examples.tutorials.mnist import input_data"
   ]
  },
  {
   "cell_type": "code",
   "execution_count": 3,
   "metadata": {
    "collapsed": false
   },
   "outputs": [
    {
     "name": "stdout",
     "output_type": "stream",
     "text": [
      "Extracting MNIST_data\\train-images-idx3-ubyte.gz\n",
      "Extracting MNIST_data\\train-labels-idx1-ubyte.gz\n",
      "Extracting MNIST_data\\t10k-images-idx3-ubyte.gz\n",
      "Extracting MNIST_data\\t10k-labels-idx1-ubyte.gz\n",
      "Iter 0,Testing Accuracy 0.7473\n",
      "Iter 1,Testing Accuracy 0.8413\n",
      "Iter 2,Testing Accuracy 0.9066\n",
      "Iter 3,Testing Accuracy 0.9113\n",
      "Iter 4,Testing Accuracy 0.9143\n",
      "Iter 5,Testing Accuracy 0.9168\n",
      "Iter 6,Testing Accuracy 0.9199\n",
      "Iter 7,Testing Accuracy 0.9201\n",
      "Iter 8,Testing Accuracy 0.9202\n",
      "Iter 9,Testing Accuracy 0.9213\n",
      "Iter 10,Testing Accuracy 0.921\n",
      "Iter 11,Testing Accuracy 0.9205\n",
      "Iter 12,Testing Accuracy 0.9214\n",
      "Iter 13,Testing Accuracy 0.923\n",
      "Iter 14,Testing Accuracy 0.9237\n",
      "Iter 15,Testing Accuracy 0.9238\n",
      "Iter 16,Testing Accuracy 0.924\n",
      "Iter 17,Testing Accuracy 0.9231\n",
      "Iter 18,Testing Accuracy 0.9246\n",
      "Iter 19,Testing Accuracy 0.925\n",
      "Iter 20,Testing Accuracy 0.9253\n"
     ]
    }
   ],
   "source": [
    "# 载入数据集\n",
    "mnist = input_data.read_data_sets(\"MNIST_data\", one_hot=True)\n",
    "\n",
    "# 批次大小\n",
    "batch_size = 64\n",
    "# 计算一个周期一共有多少个批次\n",
    "n_batch = mnist.train.num_examples // batch_size\n",
    "\n",
    "# 定义两个placeholder\n",
    "x = tf.placeholder(tf.float32,[None,784])\n",
    "y = tf.placeholder(tf.float32,[None,10])\n",
    "\n",
    "# 创建一个简单的神经网络:784-10\n",
    "W = tf.Variable(tf.truncated_normal([784,10], stddev=0.1))\n",
    "b = tf.Variable(tf.zeros([10]) + 0.1)\n",
    "prediction = tf.nn.softmax(tf.matmul(x,W)+b)\n",
    "\n",
    "# 二次代价函数\n",
    "# loss = tf.losses.mean_squared_error(y, prediction)\n",
    "# 交叉熵\n",
    "loss = tf.losses.softmax_cross_entropy(y, prediction)\n",
    "\n",
    "# 使用梯度下降法\n",
    "train = tf.train.GradientDescentOptimizer(0.3).minimize(loss)\n",
    "\n",
    "# 结果存放在一个布尔型列表中\n",
    "correct_prediction = tf.equal(tf.argmax(y,1),tf.argmax(prediction,1))\n",
    "# 求准确率\n",
    "accuracy = tf.reduce_mean(tf.cast(correct_prediction,tf.float32))\n",
    "\n",
    "with tf.Session() as sess:\n",
    "    # 变量初始化\n",
    "    sess.run(tf.global_variables_initializer())\n",
    "    # 周期epoch：所有数据训练一次，就是一个周期\n",
    "    for epoch in range(21):\n",
    "        for batch in range(n_batch):\n",
    "            # 获取一个批次的数据和标签\n",
    "            batch_xs,batch_ys = mnist.train.next_batch(batch_size)\n",
    "            sess.run(train,feed_dict={x:batch_xs,y:batch_ys})\n",
    "        # 每训练一个周期做一次测试\n",
    "        acc = sess.run(accuracy,feed_dict={x:mnist.test.images,y:mnist.test.labels})\n",
    "        print(\"Iter \" + str(epoch) + \",Testing Accuracy \" + str(acc))"
   ]
  },
  {
   "cell_type": "code",
   "execution_count": null,
   "metadata": {
    "collapsed": true
   },
   "outputs": [],
   "source": [
    "# Iter 0,Testing Accuracy 0.8513\n",
    "# Iter 1,Testing Accuracy 0.8849\n",
    "# Iter 2,Testing Accuracy 0.8954\n",
    "# Iter 3,Testing Accuracy 0.9016\n",
    "# Iter 4,Testing Accuracy 0.9051\n",
    "# Iter 5,Testing Accuracy 0.9088\n",
    "# Iter 6,Testing Accuracy 0.9112\n",
    "# Iter 7,Testing Accuracy 0.9128\n",
    "# Iter 8,Testing Accuracy 0.9145\n",
    "# Iter 9,Testing Accuracy 0.9153\n",
    "# Iter 10,Testing Accuracy 0.9164\n",
    "# Iter 11,Testing Accuracy 0.9163\n",
    "# Iter 12,Testing Accuracy 0.9172\n",
    "# Iter 13,Testing Accuracy 0.9183\n",
    "# Iter 14,Testing Accuracy 0.9187\n",
    "# Iter 15,Testing Accuracy 0.9192\n",
    "# Iter 16,Testing Accuracy 0.9186\n",
    "# Iter 17,Testing Accuracy 0.9196\n",
    "# Iter 18,Testing Accuracy 0.9209\n",
    "# Iter 19,Testing Accuracy 0.9203\n",
    "# Iter 20,Testing Accuracy 0.9205"
   ]
  }
 ],
 "metadata": {
  "anaconda-cloud": {},
  "kernelspec": {
   "display_name": "Python [default]",
   "language": "python",
   "name": "python3"
  },
  "language_info": {
   "codemirror_mode": {
    "name": "ipython",
    "version": 3
   },
   "file_extension": ".py",
   "mimetype": "text/x-python",
   "name": "python",
   "nbconvert_exporter": "python",
   "pygments_lexer": "ipython3",
   "version": "3.5.2"
  }
 },
 "nbformat": 4,
 "nbformat_minor": 1
}
