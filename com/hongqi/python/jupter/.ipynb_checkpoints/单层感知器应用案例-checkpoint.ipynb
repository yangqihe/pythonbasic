{
 "cells": [
  {
   "cell_type": "code",
   "execution_count": 6,
   "metadata": {},
   "outputs": [],
   "source": [
    "import numpy as np\n",
    "import matplotlib.pyplot as plt"
   ]
  },
  {
   "cell_type": "code",
   "execution_count": 7,
   "metadata": {},
   "outputs": [],
   "source": [
    "# 定义输入数据\n",
    "X = np.array([[1,3,3],\n",
    "              [1,4,3],\n",
    "              [1,1,1],\n",
    "              [1,2,1]])\n",
    "# 定义标签\n",
    "T = np.array([[1],\n",
    "              [1],\n",
    "              [-1],\n",
    "              [-1]])\n",
    "# 权值初始化\n",
    "W = np.random.random([3,1])\n",
    "# 学习率设置\n",
    "lr = 0.1\n",
    "# 神经网络输出\n",
    "Y = 0"
   ]
  },
  {
   "cell_type": "code",
   "execution_count": 8,
   "metadata": {},
   "outputs": [],
   "source": [
    "# 更新权值函数\n",
    "def train():\n",
    "    global X,Y,W,lr,T\n",
    "    # 同时计算4个数据的预测值，Y(4，1)\n",
    "    Y = np.sign(np.dot(X,W))\n",
    "    # T-Y得到4个标签值与预测值的误差E(4，1)\n",
    "    E = T - Y\n",
    "    # 计算权值的变化\n",
    "    delta_W = lr * (X.T.dot(E)) / X.shape[0]\n",
    "    # 更新权值\n",
    "    W = W +delta_W"
   ]
  },
  {
   "cell_type": "code",
   "execution_count": 9,
   "metadata": {},
   "outputs": [
    {
     "name": "stdout",
     "output_type": "stream",
     "text": [
      "epoch: 1\n",
      "weights: [[0.72479335]\n",
      " [0.62349838]\n",
      " [0.0786446 ]]\n",
      "epoch: 2\n",
      "weights: [[ 0.62479335]\n",
      " [ 0.47349838]\n",
      " [-0.0213554 ]]\n",
      "epoch: 3\n",
      "weights: [[ 0.52479335]\n",
      " [ 0.32349838]\n",
      " [-0.1213554 ]]\n",
      "epoch: 4\n",
      "weights: [[ 0.42479335]\n",
      " [ 0.17349838]\n",
      " [-0.2213554 ]]\n",
      "epoch: 5\n",
      "weights: [[ 0.32479335]\n",
      " [ 0.02349838]\n",
      " [-0.3213554 ]]\n",
      "epoch: 6\n",
      "weights: [[ 0.32479335]\n",
      " [ 0.22349838]\n",
      " [-0.1213554 ]]\n",
      "epoch: 7\n",
      "weights: [[ 0.22479335]\n",
      " [ 0.07349838]\n",
      " [-0.2213554 ]]\n",
      "epoch: 8\n",
      "weights: [[ 0.22479335]\n",
      " [ 0.27349838]\n",
      " [-0.0213554 ]]\n",
      "epoch: 9\n",
      "weights: [[ 0.12479335]\n",
      " [ 0.12349838]\n",
      " [-0.1213554 ]]\n",
      "epoch: 10\n",
      "weights: [[ 0.02479335]\n",
      " [-0.02650162]\n",
      " [-0.2213554 ]]\n",
      "epoch: 11\n",
      "weights: [[0.12479335]\n",
      " [0.32349838]\n",
      " [0.0786446 ]]\n",
      "epoch: 12\n",
      "weights: [[ 0.02479335]\n",
      " [ 0.17349838]\n",
      " [-0.0213554 ]]\n",
      "epoch: 13\n",
      "weights: [[-0.07520665]\n",
      " [ 0.02349838]\n",
      " [-0.1213554 ]]\n",
      "epoch: 14\n",
      "weights: [[0.02479335]\n",
      " [0.37349838]\n",
      " [0.1786446 ]]\n",
      "epoch: 15\n",
      "weights: [[-0.07520665]\n",
      " [ 0.22349838]\n",
      " [ 0.0786446 ]]\n",
      "epoch: 16\n",
      "weights: [[-0.17520665]\n",
      " [ 0.07349838]\n",
      " [-0.0213554 ]]\n",
      "epoch: 17\n",
      "weights: [[-0.12520665]\n",
      " [ 0.22349838]\n",
      " [ 0.1286446 ]]\n",
      "epoch: 18\n",
      "weights: [[-0.22520665]\n",
      " [ 0.07349838]\n",
      " [ 0.0286446 ]]\n",
      "Finished\n"
     ]
    }
   ],
   "source": [
    "# 训练模型\n",
    "for i in range(100):\n",
    "    # 更新权值\n",
    "    train()\n",
    "    # 打印当前训练次数\n",
    "    print('epoch:',i+1)\n",
    "    # 当前的权值\n",
    "    print('weights:',W)\n",
    "    # 计算当前输出\n",
    "    Y = np.sign(np.dot(X,W))\n",
    "    # all()表示Y中的所有值跟T中的所有值都对应相等，才为真\n",
    "    if (Y == T).all():\n",
    "        print('Finished')\n",
    "        # 跳出循环\n",
    "        break"
   ]
  },
  {
   "cell_type": "code",
   "execution_count": 5,
   "metadata": {},
   "outputs": [
    {
     "data": {
      "image/png": "[encoded data removed]",
      "text/plain": [
       "<Figure size 432x288 with 1 Axes>"
      ]
     },
     "metadata": {
      "needs_background": "light"
     },
     "output_type": "display_data"
    }
   ],
   "source": [
    "# 画图\n",
    "# 正样本的xy坐标\n",
    "x1 = [3,4]\n",
    "y1 = [3,3]\n",
    "# 负样本xy坐标\n",
    "x2 = [1,2]\n",
    "y2 = [1,1]\n",
    "# 定义分类边界线的斜率和截距\n",
    "k = -W[1]/W[2]\n",
    "d = -W[0]/W[2]\n",
    "# 设定两个点\n",
    "xdata = (0,5)\n",
    "# 通过两点来确定一条直线，用红色的线来画出分界线\n",
    "plt.plot(xdata,xdata*k+d,'r')\n",
    "# 用蓝色的点画正样本\n",
    "plt.scatter(x1,y1,c='b')\n",
    "# 用黄色的点画负样本\n",
    "plt.scatter(x2,y2,c='y')\n",
    "plt.show()\n"
   ]
  },
  {
   "cell_type": "code",
   "execution_count": null,
   "metadata": {},
   "outputs": [],
   "source": []
  },
  {
   "cell_type": "code",
   "execution_count": null,
   "metadata": {},
   "outputs": [],
   "source": []
  },
  {
   "cell_type": "code",
   "execution_count": null,
   "metadata": {},
   "outputs": [],
   "source": []
  }
 ],
 "metadata": {
  "anaconda-cloud": {},
  "kernelspec": {
   "display_name": "Python 3",
   "language": "python",
   "name": "python3"
  },
  "language_info": {
   "codemirror_mode": {
    "name": "ipython",
    "version": 3
   },
   "file_extension": ".py",
   "mimetype": "text/x-python",
   "name": "python",
   "nbconvert_exporter": "python",
   "pygments_lexer": "ipython3",
   "version": "3.7.2"
  }
 },
 "nbformat": 4,
 "nbformat_minor": 1
}
